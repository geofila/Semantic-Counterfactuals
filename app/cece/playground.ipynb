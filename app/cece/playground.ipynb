{
 "cells": [
  {
   "cell_type": "code",
   "execution_count": 1,
   "metadata": {},
   "outputs": [],
   "source": [
    "# reload libraries each time in notebook\n",
    "%load_ext autoreload \n",
    "%autoreload 2"
   ]
  },
  {
   "cell_type": "code",
   "execution_count": null,
   "metadata": {},
   "outputs": [],
   "source": [
    "# Install cece\n",
    "!pip install cece"
   ]
  },
  {
   "cell_type": "code",
   "execution_count": 2,
   "metadata": {},
   "outputs": [
    {
     "name": "stderr",
     "output_type": "stream",
     "text": [
      "[nltk_data] Downloading package wordnet to\n",
      "[nltk_data]     /Users/giorgosfilandrianos/nltk_data...\n",
      "[nltk_data]   Package wordnet is already up-to-date!\n"
     ]
    },
    {
     "data": {
      "text/plain": [
       "True"
      ]
     },
     "execution_count": 2,
     "metadata": {},
     "output_type": "execute_result"
    }
   ],
   "source": [
    "import nltk\n",
    "nltk.download('wordnet')"
   ]
  },
  {
   "attachments": {},
   "cell_type": "markdown",
   "metadata": {},
   "source": [
    "## Use Case 1: Calculate the GED between 2 objects"
   ]
  },
  {
   "cell_type": "code",
   "execution_count": 3,
   "metadata": {},
   "outputs": [
    {
     "name": "stdout",
     "output_type": "stream",
     "text": [
      "Remains the same: {'tree'}\n",
      "-------------------------------------\n",
      "Tranform {'car'} from {'vehicle'} -> set()\n",
      "Add: {'person'}\n",
      "--------------------------------------\n",
      "(2, {'additions': [{'person'}], 'removals': [], 'transf': [({'car', 'vehicle'}, {'car'})]})\n"
     ]
    }
   ],
   "source": [
    "from cece.queries import *\n",
    "from cece.refine import *\n",
    "\n",
    "\n",
    "q1 = Query(np.array([set([\"car\", \"vehicle\"]), set([\"tree\"])]))\n",
    "q2 = Query(np.array([set([\"car\"]), set([\"tree\"]), set([\"person\"])]))\n",
    "\n",
    "r = refine (q1, q2,verbose= True, return_edits = True)\n",
    "\n",
    "print (r)"
   ]
  },
  {
   "cell_type": "code",
   "execution_count": 4,
   "metadata": {},
   "outputs": [
    {
     "name": "stdout",
     "output_type": "stream",
     "text": [
      "-------------------------------------\n",
      "Tranform {'object.n.01', 'vehicle.n.01', 'whole.n.02', 'self-propelled_vehicle.n.01', 'conveyance.n.03', 'motor_vehicle.n.01', 'instrumentality.n.03', 'physical_entity.n.01', 'wheeled_vehicle.n.01', 'artifact.n.01', 'entity.n.01'} from {'car.n.01'} -> {'truck.n.01'}\n",
      "Tranform {'adult.n.01', 'object.n.01', 'living_thing.n.01', 'whole.n.02', 'person.n.01', 'physical_entity.n.01', 'organism.n.01', 'entity.n.01'} from {'man.n.01'} -> {'woman.n.01'}\n",
      "--------------------------------------\n",
      "Cost:  4\n"
     ]
    }
   ],
   "source": [
    "from cece.wordnet import *\n",
    "\n",
    "q1 = Query(np.array([set(connect_term_to_wordnet(\"car\")),\n",
    "                     set(connect_term_to_wordnet(\"man\")),]))\n",
    "\n",
    "q2 = Query(np.array([set(connect_term_to_wordnet(\"woman\")),\n",
    "                     set(connect_term_to_wordnet(\"truck\"),)]))\n",
    "\n",
    "r = refine (q1, q2,verbose= True, return_edits = True)\n",
    "print (\"Cost: \", r[0])"
   ]
  },
  {
   "cell_type": "code",
   "execution_count": 5,
   "metadata": {},
   "outputs": [
    {
     "name": "stdout",
     "output_type": "stream",
     "text": [
      "Remains the same: {'adult.n.01', 'object.n.01', 'living_thing.n.01', 'whole.n.02', 'person.n.01', 'man.n.01', 'physical_entity.n.01', 'organism.n.01', 'entity.n.01'}\n",
      "-------------------------------------\n",
      "Tranform {'object.n.01', 'whole.n.02', 'physical_entity.n.01', 'entity.n.01'} from {'living_thing.n.01', 'tree.n.01', 'woody_plant.n.01', 'vascular_plant.n.01', 'plant.n.02', 'organism.n.01'} -> {'vehicle.n.01', 'self-propelled_vehicle.n.01', 'conveyance.n.03', 'motor_vehicle.n.01', 'instrumentality.n.03', 'wheeled_vehicle.n.01', 'truck.n.01', 'artifact.n.01'}\n",
      "--------------------------------------\n",
      "Cost:  14\n"
     ]
    }
   ],
   "source": [
    "\n",
    "q1 = Query(np.array([connect_term_to_wordnet(\"tree\"),\n",
    "                     connect_term_to_wordnet(\"man\"),]))\n",
    "\n",
    "q2 = Query(np.array([connect_term_to_wordnet(\"man\"),\n",
    "                     connect_term_to_wordnet(\"truck\"),]))\n",
    "\n",
    "r = refine (q1, q2,verbose= True, return_edits = True)\n",
    "print (\"Cost: \", r[0])"
   ]
  },
  {
   "attachments": {},
   "cell_type": "markdown",
   "metadata": {},
   "source": [
    "### or even simpler"
   ]
  },
  {
   "cell_type": "code",
   "execution_count": 6,
   "metadata": {},
   "outputs": [
    {
     "name": "stdout",
     "output_type": "stream",
     "text": [
      "Remains the same: {'adult.n.01', 'object.n.01', 'living_thing.n.01', 'whole.n.02', 'person.n.01', 'man.n.01', 'physical_entity.n.01', 'organism.n.01', 'entity.n.01'}\n",
      "-------------------------------------\n",
      "Tranform {'object.n.01', 'whole.n.02', 'physical_entity.n.01', 'entity.n.01'} from {'living_thing.n.01', 'tree.n.01', 'woody_plant.n.01', 'vascular_plant.n.01', 'plant.n.02', 'organism.n.01'} -> {'vehicle.n.01', 'self-propelled_vehicle.n.01', 'conveyance.n.03', 'motor_vehicle.n.01', 'instrumentality.n.03', 'wheeled_vehicle.n.01', 'truck.n.01', 'artifact.n.01'}\n",
      "--------------------------------------\n",
      "Cost:  14\n"
     ]
    }
   ],
   "source": [
    "q1 = Query(np.array(connect_list_to_wordnet([\"tree\", \"man\"])))\n",
    "q2 = Query(np.array(connect_list_to_wordnet([\"man\", \"truck\"])))\n",
    "r = refine (q1, q2,verbose= True, return_edits = True)\n",
    "print (\"Cost: \", r[0])"
   ]
  },
  {
   "attachments": {},
   "cell_type": "markdown",
   "metadata": {},
   "source": [
    "## Or even simpler"
   ]
  },
  {
   "cell_type": "code",
   "execution_count": 7,
   "metadata": {},
   "outputs": [
    {
     "name": "stdout",
     "output_type": "stream",
     "text": [
      "Remains the same: {'adult.n.01', 'object.n.01', 'living_thing.n.01', 'whole.n.02', 'person.n.01', 'man.n.01', 'physical_entity.n.01', 'organism.n.01', 'entity.n.01'}\n",
      "-------------------------------------\n",
      "Tranform {'object.n.01', 'whole.n.02', 'physical_entity.n.01', 'entity.n.01'} from {'living_thing.n.01', 'tree.n.01', 'woody_plant.n.01', 'vascular_plant.n.01', 'plant.n.02', 'organism.n.01'} -> {'vehicle.n.01', 'self-propelled_vehicle.n.01', 'conveyance.n.03', 'motor_vehicle.n.01', 'instrumentality.n.03', 'wheeled_vehicle.n.01', 'truck.n.01', 'artifact.n.01'}\n",
      "--------------------------------------\n",
      "Cost:  14\n"
     ]
    }
   ],
   "source": [
    "from cece.xDataset import createMSQ\n",
    "\n",
    "q1 = createMSQ([\"tree\", \"man\"], connect_to_wordnet = True)\n",
    "q2 = createMSQ([\"man\", \"truck\"], connect_to_wordnet = True)\n",
    "r = refine (q1, q2,verbose= True, return_edits = True)\n",
    "print (\"Cost: \", r[0])"
   ]
  },
  {
   "attachments": {},
   "cell_type": "markdown",
   "metadata": {},
   "source": [
    "## ## Use Case 2: Use it for a Datatset"
   ]
  },
  {
   "cell_type": "code",
   "execution_count": 8,
   "metadata": {},
   "outputs": [
    {
     "data": {
      "text/plain": [
       "{1: 0, 0: 14, 4: 28, 3: 29, 2: 36}"
      ]
     },
     "execution_count": 8,
     "metadata": {},
     "output_type": "execute_result"
    }
   ],
   "source": [
    "from cece.xDataset import *\n",
    "\n",
    "\n",
    "# initialize an instance of the Dataset\n",
    "ds = xDataset(dataset = [[\"tree\", \"man\"],\n",
    "                         [\"man\", \"truck\"],\n",
    "                         [\"kitchen\", \"oven\", \"refrigerator\"], \n",
    "                         [\"bed\", \"pillow\", \"blanket\", \"woman\"],\n",
    "                         [\"sofa\", \"cushion\", \"pillow\"],],\n",
    "\n",
    "              labels = [\"outdoor\", \"outdoor\", \"indoor\", \"indoor\", \"indoor\"],\n",
    "              connect_to_wordnet = True)\n",
    "\n",
    "\n",
    "ds.retrieve(ds.dataset[1])"
   ]
  },
  {
   "cell_type": "code",
   "execution_count": 9,
   "metadata": {},
   "outputs": [
    {
     "name": "stdout",
     "output_type": "stream",
     "text": [
      "Cost: 0 for 'outdoor' with id: 1\n",
      "Cost: 14 for 'outdoor' with id: 0\n",
      "Cost: 28 for 'indoor' with id: 4\n",
      "Cost: 29 for 'indoor' with id: 3\n",
      "Cost: 36 for 'indoor' with id: 2\n"
     ]
    }
   ],
   "source": [
    "for idx, cost in ds.retrieve(ds.dataset[1]).items():\n",
    "    print (f\"Cost: {cost} for '{ds.labels[idx]}' with id: {idx}\")"
   ]
  },
  {
   "cell_type": "code",
   "execution_count": 10,
   "metadata": {},
   "outputs": [
    {
     "name": "stdout",
     "output_type": "stream",
     "text": [
      "Cost: 4 for 'outdoor' with id: 1\n",
      "Cost: 16 for 'outdoor' with id: 0\n",
      "Cost: 27 for 'indoor' with id: 3\n",
      "Cost: 28 for 'indoor' with id: 4\n",
      "Cost: 36 for 'indoor' with id: 2\n"
     ]
    }
   ],
   "source": [
    "results = ds.retrieve([ \"car\", \"woman\"])\n",
    "\n",
    "for idx, cost in results.items():\n",
    "    print (f\"Cost: {cost} for '{ds.labels[idx]}' with id: {idx}\")"
   ]
  },
  {
   "attachments": {},
   "cell_type": "markdown",
   "metadata": {},
   "source": [
    "### Explain Method - Get a Semantic Counterfatual"
   ]
  },
  {
   "cell_type": "code",
   "execution_count": 11,
   "metadata": {},
   "outputs": [
    {
     "name": "stdout",
     "output_type": "stream",
     "text": [
      "Cost: 27 for 'indoor' with id: 3\n"
     ]
    }
   ],
   "source": [
    "results = ds.explain([ \"car\", \"woman\"], \"outdoor\")\n",
    "\n",
    "print (f\"Cost: {results[1]} for '{ds.labels[results[0]]}' with id: {results[0]}\")"
   ]
  },
  {
   "cell_type": "code",
   "execution_count": 12,
   "metadata": {},
   "outputs": [
    {
     "data": {
      "text/plain": [
       "(4,\n",
       " {'additions': [],\n",
       "  'removals': [],\n",
       "  'transf': [({'artifact.n.01',\n",
       "     'car.n.01',\n",
       "     'conveyance.n.03',\n",
       "     'entity.n.01',\n",
       "     'instrumentality.n.03',\n",
       "     'motor_vehicle.n.01',\n",
       "     'object.n.01',\n",
       "     'physical_entity.n.01',\n",
       "     'self-propelled_vehicle.n.01',\n",
       "     'vehicle.n.01',\n",
       "     'wheeled_vehicle.n.01',\n",
       "     'whole.n.02'},\n",
       "    {'artifact.n.01',\n",
       "     'conveyance.n.03',\n",
       "     'entity.n.01',\n",
       "     'instrumentality.n.03',\n",
       "     'motor_vehicle.n.01',\n",
       "     'object.n.01',\n",
       "     'physical_entity.n.01',\n",
       "     'self-propelled_vehicle.n.01',\n",
       "     'truck.n.01',\n",
       "     'vehicle.n.01',\n",
       "     'wheeled_vehicle.n.01',\n",
       "     'whole.n.02'}),\n",
       "   ({'adult.n.01',\n",
       "     'entity.n.01',\n",
       "     'living_thing.n.01',\n",
       "     'man.n.01',\n",
       "     'object.n.01',\n",
       "     'organism.n.01',\n",
       "     'person.n.01',\n",
       "     'physical_entity.n.01',\n",
       "     'whole.n.02'},\n",
       "    {'adult.n.01',\n",
       "     'entity.n.01',\n",
       "     'living_thing.n.01',\n",
       "     'object.n.01',\n",
       "     'organism.n.01',\n",
       "     'person.n.01',\n",
       "     'physical_entity.n.01',\n",
       "     'whole.n.02',\n",
       "     'woman.n.01'})]})"
      ]
     },
     "execution_count": 12,
     "metadata": {},
     "output_type": "execute_result"
    }
   ],
   "source": [
    "from cece.xDataset import *\n",
    "ds.find_edits([\"car\", \"man\"], [\"woman\", \"truck\"])"
   ]
  },
  {
   "cell_type": "markdown",
   "metadata": {},
   "source": [
    "### Global Explanations "
   ]
  },
  {
   "cell_type": "code",
   "execution_count": 13,
   "metadata": {},
   "outputs": [
    {
     "data": {
      "text/plain": [
       "{'vehicle.n.01': -3,\n",
       " 'self-propelled_vehicle.n.01': -3,\n",
       " 'conveyance.n.03': -3,\n",
       " 'motor_vehicle.n.01': -3,\n",
       " 'wheeled_vehicle.n.01': -3,\n",
       " 'padding.n.01': 2,\n",
       " 'pillow.n.01': 2,\n",
       " 'cushion.n.03': 2,\n",
       " 'car.n.01': -2,\n",
       " 'furnishing.n.02': 2,\n",
       " 'furniture.n.01': 2,\n",
       " 'seat.n.03': 2,\n",
       " 'sofa.n.01': 2,\n",
       " 'living_thing.n.01': -1,\n",
       " 'tree.n.01': -1,\n",
       " 'woody_plant.n.01': -1,\n",
       " 'vascular_plant.n.01': -1,\n",
       " 'plant.n.02': -1,\n",
       " 'organism.n.01': -1,\n",
       " 'artifact.n.01': 1,\n",
       " 'truck.n.01': -1,\n",
       " 'instrumentality.n.03': -1}"
      ]
     },
     "execution_count": 13,
     "metadata": {},
     "output_type": "execute_result"
    }
   ],
   "source": [
    "from cece.xDataset import *\n",
    "\n",
    "# initialize an instance of the Dataset\n",
    "ds = xDataset(dataset = [[\"tree\", \"man\"],\n",
    "                         [\"man\", \"truck\"],\n",
    "                         [\"kitchen\", \"oven\", \"refrigerator\", \"man\"], \n",
    "                         [\"bed\", \"blanket\", \"woman\"],\n",
    "                         [\"sofa\", \"pillow\", \"man\"],],\n",
    "\n",
    "              labels = [\"outdoor\", \"outdoor\", \"indoor\", \"indoor\", \"indoor\"],\n",
    "              connect_to_wordnet = True)\n",
    "\n",
    "ds.global_explanation([[\"tree\", \"man\", \"car\"], [\"man\", \"truck\", \"car\"]], [\"outdoor\", \"outdoor\"])"
   ]
  },
  {
   "cell_type": "code",
   "execution_count": 14,
   "metadata": {},
   "outputs": [
    {
     "data": {
      "text/plain": [
       "xDataset with 5 instances"
      ]
     },
     "execution_count": 14,
     "metadata": {},
     "output_type": "execute_result"
    }
   ],
   "source": [
    "ds.dataset"
   ]
  },
  {
   "cell_type": "code",
   "execution_count": 15,
   "metadata": {},
   "outputs": [
    {
     "data": {
      "image/png": "[encoded data removed]",
      "text/plain": [
       "<Figure size 432x288 with 1 Axes>"
      ]
     },
     "metadata": {
      "needs_background": "light"
     },
     "output_type": "display_data"
    }
   ],
   "source": [
    "# plot the global explanation in abar plot\n",
    "import matplotlib.pyplot as plt\n",
    "\n",
    "explanations = ds.global_explanation([[\"tree\", \"man\", \"car\"], [\"man\", \"truck\", \"car\"]], [\"outdoor\", \"outdoor\"])\n",
    "\n",
    "plt.bar(explanations.keys(), explanations.values())\n",
    "plt.xticks(rotation=90)\n",
    "plt.show()"
   ]
  },
  {
   "cell_type": "markdown",
   "metadata": {},
   "source": [
    "# Graphs"
   ]
  },
  {
   "cell_type": "code",
   "execution_count": 16,
   "metadata": {},
   "outputs": [
    {
     "data": {
      "text/plain": [
       "(9,\n",
       " {'additions': [],\n",
       "  'removals': [],\n",
       "  'transf': [([{'object.n.01', 'living_thing.n.01', 'whole.n.02', 'person.n.01', 'physical_entity.n.01', 'organism.n.01', 'entity.n.01'}\n",
       "     {'object.n.01', 'vehicle.n.01', 'linear_unit.n.01', 'whole.n.02', 'self-propelled_vehicle.n.01', 'conveyance.n.03', 'car.n.01', 'instrumentality.n.03', 'physical_entity.n.01', 'wheeled_vehicle.n.01', 'definite_quantity.n.01', 'artifact.n.01', 'entity.n.01', 'unit_of_measurement.n.01', 'inch.n.01', 'abstraction.n.06', 'motor_vehicle.n.01', 'measure.n.02'}]\n",
       "    {},\n",
       "    [{'vertebrate.n.01', 'object.n.01', 'carnivore.n.01', 'living_thing.n.01', 'placental.n.01', 'feline.n.01', 'whole.n.02', 'animal.n.01', 'cat.n.01', 'physical_entity.n.01', 'mammal.n.01', 'organism.n.01', 'chordate.n.01', 'entity.n.01'}\n",
       "     {'object.n.01', 'vehicle.n.01', 'linear_unit.n.01', 'whole.n.02', 'self-propelled_vehicle.n.01', 'conveyance.n.03', 'car.n.01', 'instrumentality.n.03', 'physical_entity.n.01', 'wheeled_vehicle.n.01', 'definite_quantity.n.01', 'artifact.n.01', 'entity.n.01', 'unit_of_measurement.n.01', 'inch.n.01', 'abstraction.n.06', 'motor_vehicle.n.01', 'measure.n.02'}]\n",
       "    {})]})"
      ]
     },
     "execution_count": 16,
     "metadata": {},
     "output_type": "execute_result"
    }
   ],
   "source": [
    "# Create an instance of a graph\n",
    "# The graph bellow contains the triples:\n",
    "# (car, in, garage)\n",
    "# (person, in, car)\n",
    "# (person, in, garage)\n",
    "\n",
    "instance1 = [\n",
    "    connect_list_to_wordnet([\"car\", \"in^garage\"]),\n",
    "    connect_list_to_wordnet([\"person\", \"in^car\"]),\n",
    "    connect_list_to_wordnet([\"person\", \"in^garage\"]),\n",
    "]\n",
    "\n",
    "# and also we create two additional instances in order to create an Explanation Dataset\n",
    "instance2 = [\n",
    "    connect_list_to_wordnet([\"car\", \"in^garage\"]),\n",
    "    connect_list_to_wordnet([\"cat\", \"in^car\"]),\n",
    "    connect_list_to_wordnet([\"person\", \"in^garage\"]),\n",
    "]\n",
    "    \n",
    "\n",
    "instance3 = [\n",
    "    connect_list_to_wordnet([\"car\", \"in^garage\"]),\n",
    "    connect_list_to_wordnet([\"dog\", \"in^car\"]),\n",
    "    connect_list_to_wordnet([\"person\", \"in^garage\"]),\n",
    "]\n",
    "\n",
    "\n",
    "from cece.graph import *\n",
    "\n",
    "# we transform the instances to a graph through the Graph class\n",
    "# this class gives us additional functionality\n",
    "g1 = Graph (instance1, connect_to_wordnet = False)\n",
    "g2 = Graph (instance2, connect_to_wordnet = False)\n",
    "g3 = Graph (instance3, connect_to_wordnet = False)\n",
    "\n",
    "\n",
    "# calculate the set edit cost from graph g1 to graph g2, along with the set edit path\n",
    "g1.cost(g2, return_edits = True)"
   ]
  },
  {
   "cell_type": "code",
   "execution_count": 17,
   "metadata": {},
   "outputs": [
    {
     "data": {
      "text/plain": [
       "(9,\n",
       " {'additions': [],\n",
       "  'removals': [],\n",
       "  'transf': [([{'object.n.01', 'living_thing.n.01', 'whole.n.02', 'person.n.01', 'physical_entity.n.01', 'organism.n.01', 'entity.n.01'}\n",
       "     {'object.n.01', 'vehicle.n.01', 'linear_unit.n.01', 'whole.n.02', 'self-propelled_vehicle.n.01', 'conveyance.n.03', 'car.n.01', 'instrumentality.n.03', 'physical_entity.n.01', 'wheeled_vehicle.n.01', 'definite_quantity.n.01', 'artifact.n.01', 'entity.n.01', 'unit_of_measurement.n.01', 'inch.n.01', 'abstraction.n.06', 'motor_vehicle.n.01', 'measure.n.02'}]\n",
       "    {},\n",
       "    [{'vertebrate.n.01', 'object.n.01', 'carnivore.n.01', 'living_thing.n.01', 'placental.n.01', 'feline.n.01', 'whole.n.02', 'animal.n.01', 'cat.n.01', 'physical_entity.n.01', 'mammal.n.01', 'organism.n.01', 'chordate.n.01', 'entity.n.01'}\n",
       "     {'object.n.01', 'vehicle.n.01', 'linear_unit.n.01', 'whole.n.02', 'self-propelled_vehicle.n.01', 'conveyance.n.03', 'car.n.01', 'instrumentality.n.03', 'physical_entity.n.01', 'wheeled_vehicle.n.01', 'definite_quantity.n.01', 'artifact.n.01', 'entity.n.01', 'unit_of_measurement.n.01', 'inch.n.01', 'abstraction.n.06', 'motor_vehicle.n.01', 'measure.n.02'}]\n",
       "    {})]})"
      ]
     },
     "execution_count": 17,
     "metadata": {},
     "output_type": "execute_result"
    }
   ],
   "source": [
    "# simpler way to create graphs using connect_to_wordnet = True parameter\n",
    "instance1 = [[\"car\", \"in^garage\"], [\"person\", \"in^car\"], [\"person\", \"in^garage\"]]\n",
    "instance2 = [[\"car\", \"in^garage\"], [\"cat\", \"in^car\"], [\"person\", \"in^garage\"]]\n",
    "instance3 = [[\"car\", \"in^garage\"], [\"dog\", \"in^car\"], [\"person\", \"in^garage\"]]\n",
    "\n",
    "from cece.graph import *\n",
    "\n",
    "g1 = Graph (instance1, connect_to_wordnet = True)\n",
    "g2 = Graph (instance2, connect_to_wordnet = True)\n",
    "g3 = Graph (instance3, connect_to_wordnet = True)\n",
    "\n",
    "g1.cost(g2, return_edits = True)"
   ]
  },
  {
   "cell_type": "code",
   "execution_count": 18,
   "metadata": {},
   "outputs": [],
   "source": [
    "instance1 = [[\"car\", \"in^garage\"], [\"person\", \"in^car\"], [\"person\", \"in^garage\"]]\n",
    "instance2 = [[\"car\", \"in^garage\"], [\"cat\", \"in^car\"], [\"person\", \"in^garage\"]]\n",
    "instance3 = [[\"car\", \"in^garage\"], [\"dog\", \"in^car\"], [\"person\", \"in^garage\"]]\n",
    "\n",
    "dataset = [instance1, instance2, instance3]\n",
    "gd = xDataset(dataset, [\"outdoor\", \"indoor\", \"indoor\"], connect_to_wordnet =True, is_graph = True)"
   ]
  },
  {
   "cell_type": "code",
   "execution_count": 19,
   "metadata": {},
   "outputs": [
    {
     "data": {
      "text/plain": [
       "{0: 11, 1: 20, 2: 20}"
      ]
     },
     "execution_count": 19,
     "metadata": {},
     "output_type": "execute_result"
    }
   ],
   "source": [
    "gd.retrieve([[\"car\", \"in^car\"], [\"person\", \"in^car\"], [\"person\", \"in^garage\"]])"
   ]
  },
  {
   "cell_type": "code",
   "execution_count": 20,
   "metadata": {},
   "outputs": [
    {
     "data": {
      "text/plain": [
       "(0, 11)"
      ]
     },
     "execution_count": 20,
     "metadata": {},
     "output_type": "execute_result"
    }
   ],
   "source": [
    "gd.explain([[\"car\", \"in^car\"], [\"person\", \"in^car\"], [\"person\", \"in^garage\"]], \"indoor\")"
   ]
  }
 ],
 "metadata": {
  "kernelspec": {
   "display_name": "Python 3",
   "language": "python",
   "name": "python3"
  },
  "language_info": {
   "codemirror_mode": {
    "name": "ipython",
    "version": 3
   },
   "file_extension": ".py",
   "mimetype": "text/x-python",
   "name": "python",
   "nbconvert_exporter": "python",
   "pygments_lexer": "ipython3",
   "version": "3.8.8"
  },
  "orig_nbformat": 4
 },
 "nbformat": 4,
 "nbformat_minor": 2
}
